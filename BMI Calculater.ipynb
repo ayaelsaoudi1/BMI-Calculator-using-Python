{
 "cells": [
  {
   "cell_type": "markdown",
   "id": "75ef226b-4eb4-4108-b099-8bd7f8dde190",
   "metadata": {},
   "source": [
    "# BMI Calculator 🏋️‍♂️\n",
    "\n",
    "This notebook calculates your **Body Mass Index (BMI)** based on your weight and height.  \n",
    "BMI helps determine whether a person is underweight, normal weight, overweight, or obese.  \n",
    "\n",
    "## BMI Formula:\n",
    "\n",
    "BMI = (weight (lbs) x 703) / (height (inches) ^2)\n",
    "\n",
    "\n",
    "### **BMI Categories:**\n",
    "| BMI Range | Category | Health Risk |\n",
    "|-----------|-----------|--------------|\n",
    "| Below 18.5 | Underweight | Minimal |\n",
    "| 18.5 - 24.9 | Normal Weight | Minimal |\n",
    "| 25 - 29.9 | Overweight | Increased |\n",
    "| 30 - 34.9 | Obese | High |\n",
    "| 35 - 39.9 | Severely Obese | Very High |\n",
    "| 40+ | Morbidly Obese | Extremely High |\n",
    "\n",
    "---\n",
    "\n",
    "## 🚀 Run the Code Below to Calculate Your BMI\n"
   ]
  },
  {
   "cell_type": "code",
   "execution_count": 6,
   "id": "ec75a874-967a-4575-8771-f9ace3a4db48",
   "metadata": {},
   "outputs": [
    {
     "name": "stdin",
     "output_type": "stream",
     "text": [
      "Enter your name:  user \n",
      "Enter your weight in pounds:  170\n",
      "Enter your height in inches:  69\n"
     ]
    },
    {
     "name": "stdout",
     "output_type": "stream",
     "text": [
      "\n",
      "user , your BMI is: 25.10\n",
      "You are classified as: Overweight\n",
      "Health Risk: Increased\n"
     ]
    }
   ],
   "source": [
    "# Get user input\n",
    "name = input(\"Enter your name: \")\n",
    "\n",
    "try:\n",
    "    weight = float(input(\"Enter your weight in pounds: \"))\n",
    "    height = float(input(\"Enter your height in inches: \"))\n",
    "\n",
    "    # Validate input values\n",
    "    if weight <= 0 or height <= 0:\n",
    "        print(\"❌ Please enter valid positive numbers for weight and height.\")\n",
    "    else:\n",
    "        # Calculate BMI\n",
    "        BMI = (weight * 703) / (height ** 2)\n",
    "        \n",
    "        # Display BMI result\n",
    "        print(f\"\\n{name}, your BMI is: {BMI:.2f}\")\n",
    "\n",
    "        # Determine BMI category\n",
    "        if BMI < 18.5:\n",
    "            category = \"Underweight\"\n",
    "            risk = \"Minimal\"\n",
    "        elif BMI <= 24.9:\n",
    "            category = \"Normal Weight\"\n",
    "            risk = \"Minimal\"\n",
    "        elif BMI <= 29.9:\n",
    "            category = \"Overweight\"\n",
    "            risk = \"Increased\"\n",
    "        elif BMI <= 34.9:\n",
    "            category = \"Obese\"\n",
    "            risk = \"High\"\n",
    "        elif BMI <= 39.9:\n",
    "            category = \"Severely Obese\"\n",
    "            risk = \"Very High\"\n",
    "        else:\n",
    "            category = \"Morbidly Obese\"\n",
    "            risk = \"Extremely High\"\n",
    "\n",
    "        # Print category and risk\n",
    "        print(f\"You are classified as: {category}\")\n",
    "        print(f\"Health Risk: {risk}\")\n",
    "\n",
    "except ValueError:\n",
    "    print(\"❌ Invalid input! Please enter numeric values for weight and height.\")\n"
   ]
  },
  {
   "cell_type": "code",
   "execution_count": null,
   "id": "dde928f2-eb3c-4e23-8615-647cc4b2cefa",
   "metadata": {},
   "outputs": [],
   "source": []
  }
 ],
 "metadata": {
  "kernelspec": {
   "display_name": "Python 3 (ipykernel)",
   "language": "python",
   "name": "python3"
  },
  "language_info": {
   "codemirror_mode": {
    "name": "ipython",
    "version": 3
   },
   "file_extension": ".py",
   "mimetype": "text/x-python",
   "name": "python",
   "nbconvert_exporter": "python",
   "pygments_lexer": "ipython3",
   "version": "3.12.4"
  }
 },
 "nbformat": 4,
 "nbformat_minor": 5
}
